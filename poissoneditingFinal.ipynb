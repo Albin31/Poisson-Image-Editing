{
 "cells": [
  {
   "cell_type": "markdown",
   "metadata": {
    "slideshow": {
     "slide_type": "slide"
    }
   },
   "source": [
    "# Poisson editing\n",
    "\n",
    "The purpose of this notebook is to apply the methods of image editing proposed by Pérez, Gangnet and Blake in their study *Poisson image editing* [1]. It is based on a notebook adapted by Nicolas Papadakis (IMB) and Charles Dossal (INSA Toulouse) from works by William Emmanuel and Pierre Bénard (LaBRI).\n",
    "\n",
    "This work has been realized by Albin Cintas, Clément Targe, Baptiste Aussel and Quentin Thuet (ModIA 2020/2023 - ENSEEIHT/INSA)"
   ]
  },
  {
   "cell_type": "markdown",
   "metadata": {
    "slideshow": {
     "slide_type": "slide"
    }
   },
   "source": [
    "## Introduction\n",
    "The goal of this assignment is to apply the Poisson editing algorithm [1] for image blending.\n",
    "\n",
    "In the following, $T$ is a target image,  $S$ a source image,  and a binary mask representing an area $\\Omega$ of $S$ to copy in $T$. All images are defined on the same domain $D$ of size $M\\times N$.\n",
    "\n",
    "What is the optimization problem we are looking to solve ?   \n",
    "  \n",
    "$$\\min_u \\int_\\Omega ||\\nabla u-v||^2 = \\min_u ||\\nabla u-v||_{2}^2$$\n",
    "under the constraint $u_{|\\partial \\Omega}=T$. $v$ is here a vector field that will depend on the fusion we want to do. \n",
    "\n",
    "We will first study Seemless Cloning. Then we will see other ways to fusion images with certain effects. \n"
   ]
  },
  {
   "cell_type": "markdown",
   "metadata": {
    "slideshow": {
     "slide_type": "slide"
    }
   },
   "source": [
    "<table align=\"center\"><tr><td><img src=\"./sources_ondelettes/target_Boat.png\" style=\"width: 200px;\"></td><td><img src=\"./sources_ondelettes/source_Kraken.png\" style=\"width: 200px;\"></td><td><img src=\"./sources_ondelettes/mask_Kraken.png\" style=\"width: 200px;\"></td><td><img src=\"./img/naive.png\" style=\"width: 200px;\"></td><td><img src=\"./sources_ondelettes/poisson_blending.png\" style=\"width: 200px;\"></td></tr>\n",
    "<tr><td>Target $T$</td><td>Source $S$</td><td>Mask</td><td>Naive copy/paste of $S$</td><td>Poisson blending [1]: seemless cloning</td></tr>\n",
    "</table>"
   ]
  },
  {
   "cell_type": "markdown",
   "metadata": {
    "slideshow": {
     "slide_type": "skip"
    }
   },
   "source": [
    "\n",
    "We will study two examples but you can try others on your own.\n",
    "The data can be found at the following adress :\n",
    "\n",
    "http://dl.free.fr/rm.pl?h=bOSoNRP4l&i=93426714&s=mwWbk2t533WxFMxD47ERDuR9MlkDPwc8"
   ]
  },
  {
   "cell_type": "code",
   "execution_count": 1,
   "metadata": {
    "slideshow": {
     "slide_type": "skip"
    }
   },
   "outputs": [
    {
     "ename": "ModuleNotFoundError",
     "evalue": "No module named 'pywt'",
     "output_type": "error",
     "traceback": [
      "\u001b[0;31m---------------------------------------------------------------------------\u001b[0m",
      "\u001b[0;31mModuleNotFoundError\u001b[0m                       Traceback (most recent call last)",
      "\u001b[0;32m<ipython-input-1-85d8e0633a20>\u001b[0m in \u001b[0;36m<module>\u001b[0;34m\u001b[0m\n\u001b[1;32m      2\u001b[0m \u001b[0;32mimport\u001b[0m \u001b[0mscipy\u001b[0m \u001b[0;32mas\u001b[0m \u001b[0mscp\u001b[0m\u001b[0;34m\u001b[0m\u001b[0;34m\u001b[0m\u001b[0m\n\u001b[1;32m      3\u001b[0m \u001b[0;32mimport\u001b[0m \u001b[0mpylab\u001b[0m \u001b[0;32mas\u001b[0m \u001b[0mpyl\u001b[0m\u001b[0;34m\u001b[0m\u001b[0;34m\u001b[0m\u001b[0m\n\u001b[0;32m----> 4\u001b[0;31m \u001b[0;32mimport\u001b[0m \u001b[0mpywt\u001b[0m\u001b[0;34m\u001b[0m\u001b[0;34m\u001b[0m\u001b[0m\n\u001b[0m\u001b[1;32m      5\u001b[0m \u001b[0;32mimport\u001b[0m \u001b[0mpandas\u001b[0m \u001b[0;32mas\u001b[0m \u001b[0mpd\u001b[0m\u001b[0;34m\u001b[0m\u001b[0;34m\u001b[0m\u001b[0m\n\u001b[1;32m      6\u001b[0m \u001b[0;32mimport\u001b[0m \u001b[0mlogging\u001b[0m\u001b[0;34m\u001b[0m\u001b[0;34m\u001b[0m\u001b[0m\n",
      "\u001b[0;31mModuleNotFoundError\u001b[0m: No module named 'pywt'"
     ]
    }
   ],
   "source": [
    "import numpy as np\n",
    "import scipy as scp\n",
    "import pylab as pyl\n",
    "import pywt\n",
    "import pandas as pd\n",
    "import logging\n",
    "logging.getLogger(\"param\").setLevel(logging.CRITICAL)\n",
    "import holoviews as hv\n",
    "import param\n",
    "import panel as pn\n",
    "import matplotlib.pyplot as plt\n",
    "import requests\n",
    "from panel.pane import LaTeX\n",
    "hv.extension('bokeh')\n",
    "from PIL import Image\n",
    "from io import BytesIO\n",
    "import sys\n",
    "import time"
   ]
  },
  {
   "cell_type": "code",
   "execution_count": null,
   "metadata": {
    "slideshow": {
     "slide_type": "skip"
    }
   },
   "outputs": [],
   "source": [
    "import logging\n",
    "logging.getLogger(\"param\").setLevel(logging.CRITICAL)"
   ]
  },
  {
   "cell_type": "code",
   "execution_count": null,
   "metadata": {
    "slideshow": {
     "slide_type": "skip"
    }
   },
   "outputs": [],
   "source": [
    "caselist=['Kraken', 'MonaLisa',\"GradF\"]"
   ]
  },
  {
   "cell_type": "markdown",
   "metadata": {
    "slideshow": {
     "slide_type": "skip"
    }
   },
   "source": [
    "Data are available online but you have downloaded them, you can work online changing the value of the variable \"local\" in the next cell."
   ]
  },
  {
   "cell_type": "code",
   "execution_count": null,
   "metadata": {
    "slideshow": {
     "slide_type": "skip"
    }
   },
   "outputs": [],
   "source": [
    "def chargeData(name):\n",
    "    if name=='Kraken':\n",
    "        target=np.array(Image.open(\"sources_ondelettes/target_Boat.png\")).astype(float)\n",
    "        source=np.array(Image.open(\"sources_ondelettes/source_Kraken.png\")).astype(float)\n",
    "        mask2=np.array(Image.open(\"sources_ondelettes/mask_Kraken.png\")).astype(float)/255\n",
    "    if name=='MonaLisa':\n",
    "        target=np.array(Image.open(\"sources_ondelettes/Joconde.jpg\")).astype(float)\n",
    "        source=np.array(Image.open(\"sources_ondelettes/source_Heisenberg.jpeg\")).astype(float)\n",
    "        mask2=np.array(Image.open(\"sources_ondelettes/mask_joconde.jpeg\")).astype(float)/255\n",
    "    if name=='GradF':\n",
    "        target=np.array(Image.open(\"sources_ondelettes/0_grad_target.png\")).astype(float)[2:,4:,:]\n",
    "        source=np.array(Image.open(\"sources_ondelettes/0_grad_source.png\")).astype(float)[3:,4:,:]\n",
    "        mask2=np.array(Image.open(\"sources_ondelettes/0_grad_mask.png\")).astype(float)/255\n",
    "        mask2 = mask2[:,:,0]\n",
    "    if name=='Ayoub_soleil':\n",
    "        target=np.array(Image.open(\"sources_ondelettes/ayoub_target.png\")).astype(float)[1:,:,:]\n",
    "        source=np.array(Image.open(\"sources_ondelettes/ayoub_source2.png\")).astype(float)[:674,:,:]\n",
    "        mask2=np.array(Image.open(\"sources_ondelettes/ayoub_mask2.png\")).astype(float)/255\n",
    "        mask2 = mask2[:674,:,0]\n",
    "    if name=='Ayoub_galet':\n",
    "        target=np.array(Image.open(\"sources_ondelettes/ayoub_target2.png\")).astype(float)[:,:,:]\n",
    "        source=np.array(Image.open(\"sources_ondelettes/ayoub_source2.png\")).astype(float)[:674,:,:]\n",
    "        mask2=np.array(Image.open(\"sources_ondelettes/ayoub_mask2.png\")).astype(float)/255\n",
    "        mask2 = mask2[:674,:,0]\n",
    "    if name=='Ayoub_texture':\n",
    "        target=None\n",
    "        source=np.array(Image.open(\"sources_ondelettes/ayoub_source3.png\")).astype(float)[:,:,:]\n",
    "        mask2=np.array(Image.open(\"sources_ondelettes/ayoub_mask3.png\")).astype(float)/255\n",
    "        mask2 = mask2[:,:,0]\n",
    "    if name=='Orange':\n",
    "        target=None\n",
    "        source=np.array(Image.open(\"sources_ondelettes/orange_source.png\")).astype(float)[:,:,:]\n",
    "        mask2=np.array(Image.open(\"sources_ondelettes/orange_mask.png\")).astype(float)/255\n",
    "        mask2 = mask2[:,:,0]\n",
    "    return target,source,mask2"
   ]
  },
  {
   "cell_type": "markdown",
   "metadata": {
    "slideshow": {
     "slide_type": "slide"
    }
   },
   "source": [
    "Here are the input data : a target, a source and a mask."
   ]
  },
  {
   "cell_type": "code",
   "execution_count": null,
   "metadata": {
    "slideshow": {
     "slide_type": "fragment"
    }
   },
   "outputs": [],
   "source": [
    "target,source,mask2=chargeData('Kraken')\n",
    "optionsRGB=dict(width=300,height=300,xaxis=None,yaxis=None,toolbar=None)\n",
    "optionsGray=dict(cmap='gray',width=300,height=300,xaxis=None,yaxis=None,toolbar=None)\n",
    "pn.Row(hv.RGB(target.astype('uint8')).opts(**optionsRGB),hv.RGB(source.astype('uint8')).opts(**optionsRGB),hv.Image((mask2*255).astype('uint8')).opts(**optionsGray))"
   ]
  },
  {
   "cell_type": "markdown",
   "metadata": {
    "slideshow": {
     "slide_type": "slide"
    }
   },
   "source": [
    "In the following we are giving some discrete gradient and associated divergence. These gradients and divergences will be used to solve the optimization problem later. Indeed, these operators allow to compute the derivative of our functional."
   ]
  },
  {
   "cell_type": "code",
   "execution_count": null,
   "metadata": {
    "slideshow": {
     "slide_type": "fragment"
    }
   },
   "outputs": [],
   "source": [
    "def GradientHor(x):\n",
    "    y=x-np.roll(x,1,axis=1)\n",
    "    y[:,0]=0\n",
    "    return y\n",
    "def GradientVer(x):\n",
    "    y=x-np.roll(x,1,axis=0)\n",
    "    y[0,:]=0\n",
    "    return y"
   ]
  },
  {
   "cell_type": "code",
   "execution_count": null,
   "metadata": {
    "slideshow": {
     "slide_type": "slide"
    }
   },
   "outputs": [],
   "source": [
    "def DivHor(x):\n",
    "    N=len(x[0])\n",
    "    y=x-np.roll(x,-1,axis=1)\n",
    "    y[:,0]=-x[:,1]\n",
    "    y[:,N-1]=x[:,N-1]\n",
    "    return y\n",
    "def DivVer(x):\n",
    "    N=len(x)\n",
    "    y=x-np.roll(x,-1,axis=0)\n",
    "    y[0,:]=-x[1,:]\n",
    "    y[N-1,:]=x[N-1,:]\n",
    "    return y\n",
    "def Gradient(x):\n",
    "    y=[]\n",
    "    y.append(GradientHor(x))\n",
    "    y.append(GradientVer(x))\n",
    "    return y\n",
    "def Div(y):\n",
    "    x=DivHor(y[0])+DivVer(y[1])\n",
    "    return x"
   ]
  },
  {
   "cell_type": "markdown",
   "metadata": {
    "slideshow": {
     "slide_type": "slide"
    }
   },
   "source": [
    "Below we define the projection of our source image on the destination, and the gradient of the function  f : $x\\mapsto \\Vert\\nabla x -y\\Vert_2^2$ :  \n",
    "$$\\nabla f(x) = 2 \\times {\\mbox{div}} (\\nabla x - y)$$\n",
    "$$$$\n",
    "Reminder : if $F(x)=\\frac{1}{2}\\Vert A x -y\\Vert_2^2$ with $A$ a linear operator, then $\\nabla F(x) = A^{*}(A x - y)$ with $A^{*}$ the adjoint operator of $A$.  \n",
    "Particularly, if $A:x\\mapsto \\nabla x$, then $A^{*}:x\\mapsto {\\mbox{div}} \\ x$"
   ]
  },
  {
   "cell_type": "code",
   "execution_count": null,
   "metadata": {
    "slideshow": {
     "slide_type": "fragment"
    }
   },
   "outputs": [],
   "source": [
    "def Proj(source,mask,target):\n",
    "    res = np.copy(target)\n",
    "    res[np.where(mask==1)] = source[np.where(mask==1)]\n",
    "    return res\n",
    "def GradientFonc(x,y):\n",
    "    res = 2.*Div(Gradient(np.array(x))-np.array(y))\n",
    "    return res"
   ]
  },
  {
   "cell_type": "markdown",
   "metadata": {
    "slideshow": {
     "slide_type": "slide"
    }
   },
   "source": [
    "We compute then a naive fusion with a simple projection."
   ]
  },
  {
   "cell_type": "code",
   "execution_count": null,
   "metadata": {
    "scrolled": true,
    "slideshow": {
     "slide_type": "fragment"
    }
   },
   "outputs": [],
   "source": [
    "target,source,mask2=chargeData('Kraken')\n",
    "optionsgray=dict(cmap='gray',width=300,height=300,xaxis=None,yaxis=None,toolbar=None)\n",
    "optionsRGB=dict(width=300,height=300,xaxis=None,yaxis=None,toolbar=None)\n",
    "pn.Row(hv.RGB(Proj(source,mask2,target).astype('uint8')).opts(**optionsRGB))"
   ]
  },
  {
   "cell_type": "markdown",
   "metadata": {
    "slideshow": {
     "slide_type": "slide"
    }
   },
   "source": [
    "## Seamless cloning\n",
    "We remind you that the optimization problem we want to solve is the following one :  \n",
    "$$\\min_u ||\\nabla u-v||^2_2,$$\n",
    "under the constraint $u_{|\\partial \\Omega}=T$\n",
    "\n",
    "The idea of Seamless cloning is to copy the spatial gradients $\\nabla S$ of the source image inside $T$, and not the color values $S$. \n",
    "To realize such blending, we find an image $u$ solution of:\n",
    "\n",
    "$$\\min_u ||\\nabla u-\\nabla S||^2_2,$$\n",
    "under the constraint $u_{D\\backslash \\Omega}=T$. In fact we just take $v =\\nabla S$.\n"
   ]
  },
  {
   "cell_type": "markdown",
   "metadata": {
    "slideshow": {
     "slide_type": "slide"
    }
   },
   "source": [
    "We write a function FBPoissonEditing that solves the optimization problem presented above. The algorithm firstly used is the Forward-Backward algorithm. Lately we will complete it with an additional algorithm named FISTA that we will present later.  "
   ]
  },
  {
   "cell_type": "code",
   "execution_count": null,
   "metadata": {},
   "outputs": [],
   "source": [
    "def PoissonEditing(targ,sour,ma,v,step=0.1,Niter=100,optimization_method=\"FB\",alpha=3):\n",
    "    x = Proj(sour,ma,targ)\n",
    "    f = [np.linalg.norm(Gradient(np.array(x))-np.array(v))**2]\n",
    "    for n in range(Niter):\n",
    "        yn = np.copy(x)\n",
    "        x = Proj(yn-step*GradientFonc(x,v),ma,targ)\n",
    "        f += [np.linalg.norm(Gradient(np.array(x))-np.array(v))**2]\n",
    "    return np.clip(x,0,255),f[10:]"
   ]
  },
  {
   "cell_type": "markdown",
   "metadata": {},
   "source": [
    "Below we compute the PoissonEditing for the RGB images."
   ]
  },
  {
   "cell_type": "code",
   "execution_count": null,
   "metadata": {},
   "outputs": [],
   "source": [
    "def PoissonEditingColor(targ,sour,ma,step=0.1,Niter=100,editing_method=\"seamless\",optimization_method=\"FB\",alpha=3):\n",
    "    v = Gradient(sour[:,:,0]),Gradient(sour[:,:,1]),Gradient(sour[:,:,2])\n",
    "    out = np.zeros(targ.shape)\n",
    "    out[:,:,0],f1 = PoissonEditing(targ[:,:,0],sour[:,:,0],ma,v[0],step,Niter,optimization_method,alpha)\n",
    "    out[:,:,1],f2 = PoissonEditing(targ[:,:,1],sour[:,:,1],ma,v[1],step,Niter,optimization_method,alpha)\n",
    "    out[:,:,2],f3 = PoissonEditing(targ[:,:,2],sour[:,:,2],ma,v[2],step,Niter,optimization_method,alpha)\n",
    "    return out, (f1,f2,f3)"
   ]
  },
  {
   "cell_type": "markdown",
   "metadata": {
    "slideshow": {
     "slide_type": "slide"
    }
   },
   "source": [
    "We now create a dashboard to perform the fusion in real time."
   ]
  },
  {
   "cell_type": "code",
   "execution_count": null,
   "metadata": {
    "slideshow": {
     "slide_type": "skip"
    }
   },
   "outputs": [],
   "source": [
    "class FBFusion(param.Parameterized):\n",
    "    case = param.ObjectSelector(default='Kraken',objects=caselist)\n",
    "    Niter = param.Integer(100,bounds=(10,1000))\n",
    "    step = param.Number(0.1,bounds=(0.01,1))\n",
    "    def view(self):\n",
    "        target,source,mask2=chargeData(self.case)\n",
    "        imPoiss, (f1,f2,f3) = PoissonEditingColor(target,source,mask2,self.step,self.Niter,editing_method=\"seamless\",optimization_method=\"FB\")\n",
    "        curve1=hv.Curve(f1,kdims='x',vdims='v').opts(width=500,color='b')\n",
    "        curve2=hv.Curve(f2,kdims='x',vdims='v').opts(width=500,color='g')\n",
    "        curve3=hv.Curve(f3,kdims='x',vdims='v').opts(width=500,color='r')\n",
    "        curves=curve1*curve2*curve3\n",
    "        curves.opts(title=\"3 canaux de couleurs et \" + str(self.Niter) + \" itérations\",height=250)\n",
    "        RGBPoiss=hv.RGB(imPoiss.astype('uint8')).opts(xaxis=None,yaxis=None,toolbar=None,title=\"Forward-Backward\",height=250,width=250)\n",
    "        RGBNaive=hv.RGB(Proj(source,mask2,target).astype('uint8')).opts(xaxis=None,yaxis=None,toolbar=None,title=\"Projection naïve\",height=250,width=250)\n",
    "        return pn.Column(curves,pn.Row(RGBPoiss,RGBNaive))"
   ]
  },
  {
   "cell_type": "code",
   "execution_count": null,
   "metadata": {
    "slideshow": {
     "slide_type": "fragment"
    }
   },
   "outputs": [],
   "source": [
    "fbfusion= FBFusion()\n",
    "pn.Row(fbfusion.param,fbfusion.view)"
   ]
  },
  {
   "cell_type": "markdown",
   "metadata": {
    "slideshow": {
     "slide_type": "slide"
    }
   },
   "source": [
    "In order to be more efficient, we compute a Fusion using FISTA with a parameter $\\alpha$ and create the associated dashboard. \n",
    "FISTA is defined as a Forward-Backward algorithm combined with Nesterov acceleration. Indeed, classical Forward Backward consists in updating $x_n$ as follows : $$x_{n+1} = x_n - \\gamma \\nabla F(x_n)$$  \n",
    "But in FISTA we change this iteration procedure with :  \n",
    "$$\n",
    "\\left\\{\n",
    "    \\begin{array}{ll}\n",
    "        y_n = x_n + \\frac{n}{n+\\alpha}\\times (x_n - x_{n-1}) \\\\\n",
    "        x_{n+1} = y_n - \\gamma \\nabla F(x_n)\n",
    "    \\end{array}\n",
    "\\right.\n",
    "$$"
   ]
  },
  {
   "cell_type": "code",
   "execution_count": null,
   "metadata": {},
   "outputs": [],
   "source": [
    "def PoissonEditing(targ,sour,ma,v,step=0.1,Niter=100,optimization_method=\"FB\",alpha=3):\n",
    "    y = Gradient(sour)\n",
    "    if optimization_method == \"FISTA\":\n",
    "        x0 = Proj(sour,ma,targ)\n",
    "    x1 = Proj(sour,ma,targ)\n",
    "    f = [np.linalg.norm(Gradient(np.array(x1))-np.array(v))**2]\n",
    "    for n in range(Niter):\n",
    "        yn = np.copy(x1)\n",
    "        if optimization_method == \"FISTA\":\n",
    "            yn += (n / (n+alpha)) * (x1 - x0)\n",
    "            x0 = np.copy(x1)\n",
    "        x1 = Proj(yn-step*GradientFonc(x1,v),ma,targ)\n",
    "        f += [np.linalg.norm(Gradient(np.array(x1))-np.array(v))**2]\n",
    "    return np.clip(x1,0,255),f[10:]"
   ]
  },
  {
   "cell_type": "code",
   "execution_count": null,
   "metadata": {
    "slideshow": {
     "slide_type": "skip"
    }
   },
   "outputs": [],
   "source": [
    "class FISTAFusion(param.Parameterized):\n",
    "    case = param.ObjectSelector(default='Kraken',objects=caselist)\n",
    "    Niter = param.Integer(100,bounds=(10,1000))\n",
    "    step = param.Number(0.1,bounds=(0.01,1))\n",
    "    alpha = param.Number(3,bounds=(2,15))\n",
    "    def view(self):\n",
    "        target,source,mask2=chargeData(self.case)\n",
    "        imPoiss, (f1,f2,f3) = PoissonEditingColor(target,source,mask2,self.step,self.Niter,editing_method=\"seamless\",optimization_method=\"FISTA\",alpha=self.alpha)\n",
    "        curve1=hv.Curve(f1,kdims='x',vdims='v').opts(width=500,color='b')\n",
    "        curve2=hv.Curve(f2,kdims='x',vdims='v').opts(width=500,color='g')\n",
    "        curve3=hv.Curve(f3,kdims='x',vdims='v').opts(width=500,color='r')\n",
    "        curves=curve1*curve2*curve3\n",
    "        curves.opts(title=\"3 canaux de couleurs et \" + str(self.Niter) + \" itérations\",height=250)\n",
    "        RGBFISTA=hv.RGB(imPoiss.astype('uint8')).opts(xaxis=None,yaxis=None,toolbar=None,title=\"FISTA\",height=250,width=250)\n",
    "        RGBNaive=hv.RGB(Proj(source,mask2,target).astype('uint8')).opts(xaxis=None,yaxis=None,toolbar=None,title=\"Projection naïve\",height=250,width=250)\n",
    "        return pn.Column(curves,pn.Row(RGBFISTA,RGBNaive))"
   ]
  },
  {
   "cell_type": "markdown",
   "metadata": {
    "slideshow": {
     "slide_type": "slide"
    }
   },
   "source": [
    "Let's look at the real time fusion using FISTA."
   ]
  },
  {
   "cell_type": "code",
   "execution_count": null,
   "metadata": {
    "scrolled": false,
    "slideshow": {
     "slide_type": "fragment"
    }
   },
   "outputs": [],
   "source": [
    "fistafusion=FISTAFusion()\n",
    "pn.Row(fistafusion.param,fistafusion.view)"
   ]
  },
  {
   "cell_type": "markdown",
   "metadata": {
    "slideshow": {
     "slide_type": "slide"
    }
   },
   "source": [
    "Now, we compare the two methods for a fixed number of iterations."
   ]
  },
  {
   "cell_type": "code",
   "execution_count": null,
   "metadata": {
    "slideshow": {
     "slide_type": "skip"
    }
   },
   "outputs": [],
   "source": [
    "class FBvsFISTAFusion(param.Parameterized):\n",
    "    case = param.ObjectSelector(default='Kraken',objects=caselist)\n",
    "    canalplot = param.ObjectSelector(default='R',objects=['R','G','B'])\n",
    "    Niter = param.Integer(100,bounds=(10,3000))\n",
    "    step = param.Number(0.1,bounds=(0.01,1))\n",
    "    alpha = param.Number(3,bounds=(2,15))\n",
    "    def view(self):\n",
    "        target,source,mask2=chargeData(self.case)\n",
    "        imPoissFISTA, (f1FISTA,f2FISTA,f3FISTA) = PoissonEditingColor(target,source,mask2,self.step,self.Niter,editing_method=\"seamless\",optimization_method=\"FISTA\",alpha=self.alpha)\n",
    "        curve1FISTA=hv.Curve(f1FISTA,kdims='x',vdims='v',label=\"FISTA\").opts(width=500,color='b')\n",
    "        curve2FISTA=hv.Curve(f2FISTA,kdims='x',vdims='v',label=\"FISTA\").opts(width=500,color='g')\n",
    "        curve3FISTA=hv.Curve(f3FISTA,kdims='x',vdims='v',label=\"FISTA\").opts(width=500,color='r')\n",
    "        imPoissFB, (f1FB,f2FB,f3FB) = PoissonEditingColor(target,source,mask2,self.step,self.Niter,editing_method=\"seamless\",optimization_method=\"FB\")\n",
    "        curve1FB=hv.Curve(f1FB,kdims='x',vdims='v',label=\"Forward Backward\").opts(width=500,color='b',line_dash=\"dashed\")\n",
    "        curve2FB=hv.Curve(f2FB,kdims='x',vdims='v',label=\"Forward Backward\").opts(width=500,color='g',line_dash=\"dashed\")\n",
    "        curve3FB=hv.Curve(f3FB,kdims='x',vdims='v',label=\"Forward Backward\").opts(width=500,color='r',line_dash=\"dashed\")\n",
    "        \n",
    "        RGBPoissFISTA=hv.RGB(imPoissFISTA.astype('uint8')).opts(xaxis=None,yaxis=None,toolbar=None,title=\"FISTA\",height=250,width=250)\n",
    "        RGBPoissFB=hv.RGB(imPoissFB.astype('uint8')).opts(xaxis=None,yaxis=None,toolbar=None,title=\"Forward-Backward\",height=250,width=250)\n",
    "        if self.canalplot == 'R':\n",
    "            curves = curve1FISTA*curve1FB \n",
    "            curves.opts(title=\"Comparaison pour le canal rouge et \" + str(self.Niter) + \" itérations\",height=250)\n",
    "        elif self.canalplot == 'G':\n",
    "            curves = curve2FISTA*curve2FB\n",
    "            curves.opts(title=\"Comparaison pour le canal vert et \" + str(self.Niter) + \" itérations\",height=250)\n",
    "        elif self.canalplot == 'B':\n",
    "            curves = curve3FISTA*curve3FB\n",
    "            curves.opts(title=\"Comparaison pour le canal bleu et \" + str(self.Niter) + \" itérations\",height=250)\n",
    "        else:\n",
    "            raise ValueError \n",
    "        return pn.Column(curves,pn.Row(RGBPoissFISTA,RGBPoissFB))"
   ]
  },
  {
   "cell_type": "code",
   "execution_count": null,
   "metadata": {
    "slideshow": {
     "slide_type": "fragment"
    }
   },
   "outputs": [],
   "source": [
    "fbvsfista=FBvsFISTAFusion()\n",
    "pn.Row(fbvsfista.param,fbvsfista.view)"
   ]
  },
  {
   "cell_type": "markdown",
   "metadata": {
    "slideshow": {
     "slide_type": "slide"
    }
   },
   "source": [
    "## Mixing gradient\n",
    "We remind you again that the optimization problem we want to solve is the following one :  \n",
    "$$\\min_u ||\\nabla u-v||^2_2,$$\n",
    "under the constraint $u_{|\\partial \\Omega}=T$\n",
    "\n",
    "This time, we want that some details from the target appear on the finale image such as background or transparent effects. This means that we should integrate target gradient when we define $v$, our vector field. \n",
    "So the idea is now to define $v$ as :   \n",
    "$$\n",
    "\\forall x \\in \\Omega,  v(x) = \\left\\{\n",
    "    \\begin{array}{ll}\n",
    "        \\nabla T(x) & \\mbox{if } |\\nabla T(x)| > |\\nabla S(x)| \\\\\n",
    "        \\nabla S(x) & \\mbox{otherwise}\n",
    "    \\end{array}\n",
    "\\right.\n",
    "$$"
   ]
  },
  {
   "cell_type": "markdown",
   "metadata": {
    "slideshow": {
     "slide_type": "slide"
    }
   },
   "source": [
    "We define the new function $v$."
   ]
  },
  {
   "cell_type": "code",
   "execution_count": null,
   "metadata": {
    "slideshow": {
     "slide_type": "fragment"
    }
   },
   "outputs": [],
   "source": [
    "def v_MG(x, y, ma):\n",
    "    \n",
    "    x_hor_abs = np.abs(x[0])\n",
    "    x_vert_abs = np.abs(x[1])\n",
    "    y_hor_abs = np.abs(y[0])\n",
    "    y_vert_abs = np.abs(y[1])\n",
    "    \n",
    "    condition_hor = np.where(x_hor_abs > y_hor_abs)\n",
    "    condition_vert = np.where(x_vert_abs > y_vert_abs)\n",
    "    \n",
    "    v = np.copy(y) \n",
    "    v[0][condition_hor] = x[0][condition_hor]\n",
    "    v[1][condition_vert] = x[1][condition_vert]\n",
    "    \n",
    "    indice_mask = np.where(ma==0)\n",
    "    v[0][indice_mask] = y[0][indice_mask]\n",
    "    v[1][indice_mask] = y[1][indice_mask]\n",
    "    \n",
    "    return v"
   ]
  },
  {
   "cell_type": "markdown",
   "metadata": {
    "slideshow": {
     "slide_type": "slide"
    }
   },
   "source": [
    "Now, let's adapt our Forward-Backward function to this new $v$."
   ]
  },
  {
   "cell_type": "code",
   "execution_count": null,
   "metadata": {},
   "outputs": [],
   "source": [
    "def PoissonEditingColor(targ,sour,ma,step=0.1,Niter=100,editing_method=\"seamless\",optimization_method=\"FB\",alpha=3):\n",
    "    if editing_method == \"seamless\":\n",
    "        v = Gradient(sour[:,:,0]),Gradient(sour[:,:,1]),Gradient(sour[:,:,2])\n",
    "    elif editing_method == \"mixing\":\n",
    "        v = v_MG(Gradient(targ[:,:,0]), Gradient(sour[:,:,0]),ma),\\\n",
    "            v_MG(Gradient(targ[:,:,1]), Gradient(sour[:,:,1]),ma),\\\n",
    "            v_MG(Gradient(targ[:,:,2]), Gradient(sour[:,:,2]),ma)\n",
    "    out = np.zeros(targ.shape)\n",
    "    out[:,:,0],f1 = PoissonEditing(targ[:,:,0],sour[:,:,0],ma,v[0],step,Niter,optimization_method,alpha)\n",
    "    out[:,:,1],f2 = PoissonEditing(targ[:,:,1],sour[:,:,1],ma,v[1],step,Niter,optimization_method,alpha)\n",
    "    out[:,:,2],f3 = PoissonEditing(targ[:,:,2],sour[:,:,2],ma,v[2],step,Niter,optimization_method,alpha)\n",
    "    return out, (f1,f2,f3)"
   ]
  },
  {
   "cell_type": "markdown",
   "metadata": {
    "slideshow": {
     "slide_type": "slide"
    }
   },
   "source": [
    "For the mixing gradient, the following example is the most appropriate."
   ]
  },
  {
   "cell_type": "code",
   "execution_count": null,
   "metadata": {
    "slideshow": {
     "slide_type": "fragment"
    }
   },
   "outputs": [],
   "source": [
    "target,source,mask2=chargeData(\"GradF\")\n",
    "\n",
    "pn.Row(hv.RGB(target.astype('uint8')).opts(**optionsRGB,title=\"Target\"),\\\n",
    "       hv.RGB(source.astype('uint8')).opts(**optionsRGB,title=\"Source\"),\\\n",
    "       hv.Image((mask2*255).astype('uint8')).opts(**optionsGray,title=\"Mask\"))"
   ]
  },
  {
   "cell_type": "markdown",
   "metadata": {},
   "source": [
    "Let's see the effect of the mixing gradient with Forward-Backward and with FISTA."
   ]
  },
  {
   "cell_type": "code",
   "execution_count": null,
   "metadata": {
    "slideshow": {
     "slide_type": "skip"
    }
   },
   "outputs": [],
   "source": [
    "class FBFusionMG(param.Parameterized):\n",
    "    case = param.ObjectSelector(default='GradF',objects=caselist)\n",
    "    Niter = param.Integer(100,bounds=(10,3000))\n",
    "    step = param.Number(0.1,bounds=(0.01,1))\n",
    "    def view(self):\n",
    "        target,source,mask2=chargeData(self.case)\n",
    "        imPoiss, (f1,f2,f3) = PoissonEditingColor(target,source,mask2,self.step,self.Niter,editing_method=\"mixing\",optimization_method=\"FB\")\n",
    "        curve1=hv.Curve(f1,kdims='x',vdims='v').opts(width=500,color='b')\n",
    "        curve2=hv.Curve(f2,kdims='x',vdims='v').opts(width=500,color='g')\n",
    "        curve3=hv.Curve(f3,kdims='x',vdims='v').opts(width=500,color='r')\n",
    "        curves=curve1*curve2*curve3\n",
    "        curves.opts(title=\"3 canaux de couleurs et \" + str(self.Niter) + \" itérations\",height=250)\n",
    "        RGBPoiss=hv.RGB(imPoiss.astype('uint8')).opts(xaxis=None,yaxis=None,toolbar=None,title=\"Forward-Backward\",height=250,width=250)\n",
    "        RGBNaive=hv.RGB(Proj(source,mask2,target).astype('uint8')).opts(xaxis=None,yaxis=None,toolbar=None,title=\"Projection naïve\",height=250,width=250)\n",
    "        return pn.Column(curves,pn.Row(RGBPoiss,RGBNaive))"
   ]
  },
  {
   "cell_type": "code",
   "execution_count": null,
   "metadata": {
    "slideshow": {
     "slide_type": "slide"
    }
   },
   "outputs": [],
   "source": [
    "fbmg=FBFusionMG()\n",
    "pn.Row(fbmg.param,fbmg.view)"
   ]
  },
  {
   "cell_type": "code",
   "execution_count": null,
   "metadata": {
    "slideshow": {
     "slide_type": "skip"
    }
   },
   "outputs": [],
   "source": [
    "class FISTAMG(param.Parameterized):\n",
    "    case = param.ObjectSelector(default='GradF',objects=caselist)\n",
    "    Niter = param.Integer(100,bounds=(10,3000))\n",
    "    step = param.Number(0.1,bounds=(0.01,1))\n",
    "    alpha = param.Number(3,bounds=(2,15))\n",
    "    def view(self):\n",
    "        target,source,mask2=chargeData(self.case)\n",
    "        imPoiss2, (f1,f2,f3) = PoissonEditingColor(target,source,mask2,self.step,self.Niter,editing_method=\"mixing\",optimization_method=\"FISTA\",alpha=self.alpha)\n",
    "        curve1=hv.Curve(f1,kdims='x',vdims='v').opts(width=500,color='b')\n",
    "        curve2=hv.Curve(f2,kdims='x',vdims='v').opts(width=500,color='g')\n",
    "        curve3=hv.Curve(f3,kdims='x',vdims='v').opts(width=500,color='r')\n",
    "        curves=curve1*curve2*curve3\n",
    "        curves.opts(title=\"3 canaux de couleurs et \" + str(self.Niter) + \" itérations\",height=250)\n",
    "        RGBFISTA=hv.RGB(imPoiss2.astype('uint8')).opts(xaxis=None,yaxis=None,toolbar=None,title=\"FISTA\",height=250,width=250)\n",
    "        RGBNaive=hv.RGB(Proj(source,mask2,target).astype('uint8')).opts(xaxis=None,yaxis=None,toolbar=None,title=\"Projection naïve\",height=250,width=250)\n",
    "        return pn.Column(curves,pn.Row(RGBFISTA,RGBNaive))"
   ]
  },
  {
   "cell_type": "code",
   "execution_count": null,
   "metadata": {
    "slideshow": {
     "slide_type": "slide"
    }
   },
   "outputs": [],
   "source": [
    "fistamg=FISTAMG()\n",
    "pn.Row(fistamg.param,fistamg.view)"
   ]
  },
  {
   "cell_type": "markdown",
   "metadata": {
    "slideshow": {
     "slide_type": "slide"
    }
   },
   "source": [
    "We also create a dashboard to compare the performance of Forward-Backward and of FISTA"
   ]
  },
  {
   "cell_type": "code",
   "execution_count": null,
   "metadata": {
    "slideshow": {
     "slide_type": "skip"
    }
   },
   "outputs": [],
   "source": [
    "class FBvsFISTAFusionMG(param.Parameterized):\n",
    "    case = param.ObjectSelector(default='GradF',objects=caselist)\n",
    "    canalplot = param.ObjectSelector(default='R',objects=['R','G','B'])\n",
    "    Niter = param.Integer(100,bounds=(10,1000))\n",
    "    step = param.Number(0.1,bounds=(0.01,1))\n",
    "    alpha = param.Number(3,bounds=(2,15))\n",
    "    def view(self):\n",
    "        target,source,mask2=chargeData(self.case)\n",
    "        imPoissFISTA, (f1FISTA,f2FISTA,f3FISTA) = PoissonEditingColor(target,source,mask2,self.step,self.Niter,editing_method=\"mixing\",optimization_method=\"FISTA\",alpha=self.alpha)\n",
    "        curve1FISTA=hv.Curve(f1FISTA,kdims='x',vdims='v',label=\"FISTA\").opts(width=500,color='b')\n",
    "        curve2FISTA=hv.Curve(f2FISTA,kdims='x',vdims='v',label=\"FISTA\").opts(width=500,color='g')\n",
    "        curve3FISTA=hv.Curve(f3FISTA,kdims='x',vdims='v',label=\"FISTA\").opts(width=500,color='r')\n",
    "        imPoissFB = np.zeros(target.shape)\n",
    "        imPoissFB, (f1FB,f2FB,f3FB) = PoissonEditingColor(target,source,mask2,self.step,self.Niter,editing_method=\"mixing\",optimization_method=\"FB\")\n",
    "        curve1FB=hv.Curve(f1FB,kdims='x',vdims='v',label=\"Forward Backward\").opts(width=500,color='b',line_dash=\"dashed\")\n",
    "        curve2FB=hv.Curve(f2FB,kdims='x',vdims='v',label=\"Forward Backward\").opts(width=500,color='g',line_dash=\"dashed\")\n",
    "        curve3FB=hv.Curve(f3FB,kdims='x',vdims='v',label=\"Forward Backward\").opts(width=500,color='r',line_dash=\"dashed\")\n",
    "        \n",
    "        RGBPoissFISTA=hv.RGB(imPoissFISTA.astype('uint8')).opts(xaxis=None,yaxis=None,toolbar=None,title=\"FISTA\",height=250,width=250)\n",
    "        RGBPoissFB=hv.RGB(imPoissFB.astype('uint8')).opts(xaxis=None,yaxis=None,toolbar=None,title=\"Forward-Backward\",height=250,width=250)\n",
    "        if self.canalplot == 'R':\n",
    "            curves = curve1FISTA*curve1FB \n",
    "            curves.opts(title=\"Comparaison pour le canal rouge et \" + str(self.Niter) + \" itérations\",height=250)\n",
    "        elif self.canalplot == 'G':\n",
    "            curves = curve2FISTA*curve2FB\n",
    "            curves.opts(title=\"Comparaison pour le canal vert et \" + str(self.Niter) + \" itérations\",height=250)\n",
    "        elif self.canalplot == 'B':\n",
    "            curves = curve3FISTA*curve3FB\n",
    "            curves.opts(title=\"Comparaison pour le canal bleu et \" + str(self.Niter) + \" itérations\",height=250)\n",
    "        else:\n",
    "            raise ValueError \n",
    "        return pn.Column(curves,pn.Row(RGBPoissFISTA,RGBPoissFB))"
   ]
  },
  {
   "cell_type": "code",
   "execution_count": null,
   "metadata": {
    "slideshow": {
     "slide_type": "fragment"
    }
   },
   "outputs": [],
   "source": [
    "fbvsfistamg=FBvsFISTAFusionMG()\n",
    "pn.Row(fbvsfistamg.param,fbvsfistamg.view)"
   ]
  },
  {
   "cell_type": "markdown",
   "metadata": {
    "slideshow": {
     "slide_type": "slide"
    }
   },
   "source": [
    "#### Limits of these methods\n",
    "\n",
    "Here are two example showing the limits of the methods shown above. In fact, mixing gradient works well when the following conditions are met:\n",
    "* The gradient of the target is greater than the gradient of the background of the source\n",
    "* The gradient of the target is lower than the gradient of the foreground of the source"
   ]
  },
  {
   "cell_type": "markdown",
   "metadata": {
    "slideshow": {
     "slide_type": "slide"
    }
   },
   "source": [
    "In this first example, the gradient of the target is too low (it is lower than the gradient of the background of the source)."
   ]
  },
  {
   "cell_type": "code",
   "execution_count": null,
   "metadata": {
    "slideshow": {
     "slide_type": "fragment"
    }
   },
   "outputs": [],
   "source": [
    "target,source,mask2 = chargeData(\"Ayoub_soleil\")\n",
    "pn.Row(hv.RGB(target.astype('uint8')).opts(**optionsRGB),hv.RGB(source.astype('uint8')).opts(**optionsRGB),hv.Image((mask2*255).astype('uint8')).opts(**optionsGray))"
   ]
  },
  {
   "cell_type": "code",
   "execution_count": null,
   "metadata": {
    "slideshow": {
     "slide_type": "slide"
    }
   },
   "outputs": [],
   "source": [
    "step = 0.05\n",
    "Niter = 200\n",
    "alpha = 4\n",
    "imPoiss2, (f1,f2,f3) = PoissonEditingColor(target,source,mask2,step,Niter,editing_method=\"mixing\",optimization_method=\"FISTA\",alpha=3)\n",
    "pn.Row(hv.RGB(imPoiss2.astype('uint8')).opts(width=1000,height=674))"
   ]
  },
  {
   "cell_type": "markdown",
   "metadata": {
    "slideshow": {
     "slide_type": "slide"
    }
   },
   "source": [
    "In the second example, the gradient of the target is too high (it is greater than the gradient of the foreground of the source)."
   ]
  },
  {
   "cell_type": "code",
   "execution_count": null,
   "metadata": {
    "slideshow": {
     "slide_type": "fragment"
    }
   },
   "outputs": [],
   "source": [
    "target,source,mask2 = chargeData(\"Ayoub_galet\")\n",
    "\n",
    "pn.Row(hv.RGB(target.astype('uint8')).opts(**optionsRGB),hv.RGB(source.astype('uint8')).opts(**optionsRGB),hv.Image((mask2*255).astype('uint8')).opts(**optionsGray))"
   ]
  },
  {
   "cell_type": "code",
   "execution_count": null,
   "metadata": {
    "slideshow": {
     "slide_type": "slide"
    }
   },
   "outputs": [],
   "source": [
    "step = 0.05\n",
    "Niter = 200\n",
    "alpha = 4\n",
    "imPoiss2, (f1,f2,f3) = PoissonEditingColor(target,source,mask2,step,Niter,editing_method=\"mixing\",optimization_method=\"FISTA\",alpha=3)\n",
    "pn.Row(hv.RGB(imPoiss2.astype('uint8')).opts(width=1000,height=674))"
   ]
  },
  {
   "cell_type": "markdown",
   "metadata": {
    "slideshow": {
     "slide_type": "slide"
    }
   },
   "source": [
    "## Texture flattening \n",
    "\n",
    "Thereafter, we will implement another Poisson Editing effect : the texture flattening. As always, the only thing that changes is $v$ in our optimization problem. (reminder : (P) $\\min_u ||\\nabla u-v||^2_2,$ under the constraint $u_{|\\partial \\Omega}=T$)  \n",
    "$$$$\n",
    "Here the v is defined as : \n",
    "$$\n",
    "v(x) = M(x) \\times \\nabla T(x)\n",
    "$$\n",
    "where M is a binary matrix turned on at a few locations of interest. A matrix M that is interesting is an edge detector. "
   ]
  },
  {
   "cell_type": "markdown",
   "metadata": {
    "slideshow": {
     "slide_type": "slide"
    }
   },
   "source": [
    "We will define below this edge detector, and then we will implement this new method. "
   ]
  },
  {
   "cell_type": "code",
   "execution_count": null,
   "metadata": {
    "slideshow": {
     "slide_type": "skip"
    }
   },
   "outputs": [],
   "source": [
    "def edge_detector(image, seuil, mask):\n",
    "    M = np.zeros(image.shape)\n",
    "    r = image[:,:,0]\n",
    "    g = image[:,:,1]\n",
    "    b = image[:,:,2]\n",
    "    r_roll = np.roll(r, 1, axis = 0)\n",
    "    g_roll = np.roll(g, 1, axis = 0)\n",
    "    b_roll = np.roll(b, 1, axis = 0)\n",
    "    diff1 = np.abs(r-r_roll)\n",
    "    diff2 = np.abs(g-g_roll)\n",
    "    diff3 = np.abs(b-b_roll)\n",
    "    for i in range(image.shape[0]):\n",
    "        for j in range(image.shape[1]):\n",
    "            if diff1[i][j] + diff2[i][j] + diff3[i][j] > seuil :\n",
    "                M[i][j] = 1\n",
    "    M[:,:,0] = M[:,:,0] * (mask) + 1 - mask\n",
    "    M[:,:,1] = M[:,:,1] * (mask) + 1 - mask\n",
    "    M[:,:,2] = M[:,:,2] * (mask) + 1 - mask\n",
    "    return np.clip(M, 0, 1) "
   ]
  },
  {
   "cell_type": "code",
   "execution_count": null,
   "metadata": {
    "slideshow": {
     "slide_type": "skip"
    }
   },
   "outputs": [],
   "source": [
    "_,source,mask_text = chargeData(\"Ayoub_texture\")"
   ]
  },
  {
   "cell_type": "code",
   "execution_count": null,
   "metadata": {
    "slideshow": {
     "slide_type": "fragment"
    }
   },
   "outputs": [],
   "source": [
    "M = edge_detector(source, 10, mask_text)\n",
    "plt.imshow(M)\n",
    "plt.show()"
   ]
  },
  {
   "cell_type": "markdown",
   "metadata": {
    "slideshow": {
     "slide_type": "slide"
    }
   },
   "source": [
    "Below you can find the implementation of the new $v$."
   ]
  },
  {
   "cell_type": "code",
   "execution_count": null,
   "metadata": {
    "slideshow": {
     "slide_type": "fragment"
    }
   },
   "outputs": [],
   "source": [
    "def v_texture(image, mask):\n",
    "    M = edge_detector(image, 10, mask)\n",
    "    grad = Gradient(image)\n",
    "    return [M * grad[0], M * grad[1]]"
   ]
  },
  {
   "cell_type": "markdown",
   "metadata": {
    "slideshow": {
     "slide_type": "slide"
    }
   },
   "source": [
    "Now we can adapt our Poisson Editing method with the new effect. "
   ]
  },
  {
   "cell_type": "code",
   "execution_count": null,
   "metadata": {
    "slideshow": {
     "slide_type": "fragment"
    }
   },
   "outputs": [],
   "source": [
    "def PoissonEditingColor(targ,sour,ma,step=0.1,Niter=100,editing_method=\"seamless\",optimization_method=\"FB\",alpha=3, mask_texture=None):\n",
    "    if editing_method == \"seamless\":\n",
    "        v = Gradient(sour[:,:,0]),Gradient(sour[:,:,1]),Gradient(sour[:,:,2])\n",
    "    elif editing_method == \"mixing\":\n",
    "        v = v_MG(Gradient(targ[:,:,0]), Gradient(sour[:,:,0]),ma),\\\n",
    "            v_MG(Gradient(targ[:,:,1]), Gradient(sour[:,:,1]),ma),\\\n",
    "            v_MG(Gradient(targ[:,:,2]), Gradient(sour[:,:,2]),ma)\n",
    "    elif editing_method == \"texture\":\n",
    "        targ = sour\n",
    "        mask = np.ones(source.shape[:2])\n",
    "        if mask_texture is None:\n",
    "            mask_texture = np.ones(targ.shape[:2])\n",
    "        v_hor, v_vert = v_texture(targ, mask_texture)\n",
    "        v = (v_hor[:,:,0], v_vert[:,:,0]),\\\n",
    "            (v_hor[:,:,1], v_vert[:,:,1]),\\\n",
    "            (v_hor[:,:,2], v_vert[:,:,2])\n",
    "    \n",
    "        \n",
    "    out = np.zeros(targ.shape)\n",
    "    out[:,:,0],f1 = PoissonEditing(targ[:,:,0],sour[:,:,0],ma,v[0],step,Niter,optimization_method,alpha)\n",
    "    out[:,:,1],f2 = PoissonEditing(targ[:,:,1],sour[:,:,1],ma,v[1],step,Niter,optimization_method,alpha)\n",
    "    out[:,:,2],f3 = PoissonEditing(targ[:,:,2],sour[:,:,2],ma,v[2],step,Niter,optimization_method,alpha)\n",
    "    return out, (f1,f2,f3)"
   ]
  },
  {
   "cell_type": "markdown",
   "metadata": {
    "slideshow": {
     "slide_type": "slide"
    }
   },
   "source": [
    "As the previous results showed that FISTA goes undoubtly faster than simple Forward-Backward, we decide from now on to use only FISTA in order to solve our problems. "
   ]
  },
  {
   "cell_type": "code",
   "execution_count": null,
   "metadata": {
    "slideshow": {
     "slide_type": "skip"
    }
   },
   "outputs": [],
   "source": [
    "class FISTATexture(param.Parameterized):\n",
    "    Niter = param.Integer(100,bounds=(10,500))\n",
    "    step = param.Number(0.1,bounds=(0.01,1))\n",
    "    alpha = param.Number(3,bounds=(2,15))\n",
    "    def view(self):\n",
    "        target,source,mask2=chargeData(\"Ayoub_texture\")\n",
    "        imPoiss, (f1,f2,f3) = PoissonEditingColor(target,source,mask_text,self.step,self.Niter,editing_method=\"texture\",optimization_method=\"FISTA\",mask_texture=mask_text)\n",
    "        RGBPoiss=hv.RGB(imPoiss.astype('uint8')).opts(xaxis=None,yaxis=None,toolbar=None,title=\"Texture - FISTA (\"+ str(self.Niter) + \" iter)\",height=480,width=250)\n",
    "        RGBNaive=hv.RGB(source.astype('uint8')).opts(xaxis=None,yaxis=None,toolbar=None,title=\"Image originale\",height=480,width=250)\n",
    "        return pn.Column(pn.Row(RGBPoiss,RGBNaive))"
   ]
  },
  {
   "cell_type": "code",
   "execution_count": null,
   "metadata": {
    "slideshow": {
     "slide_type": "fragment"
    }
   },
   "outputs": [],
   "source": [
    "fistatxt=FISTATexture()\n",
    "pn.Row(fistatxt.param,fistatxt.view)"
   ]
  },
  {
   "cell_type": "markdown",
   "metadata": {
    "slideshow": {
     "slide_type": "slide"
    }
   },
   "source": [
    "## Local illumination changes\n",
    "\n",
    "To finish, we propose a last effect that consists in improving luminosity on over and under luminous locations. \n",
    "As always, the only thing that changes is $v$ in our optimization problem. (reminder : (P) $\\min_u ||\\nabla u-v||^2_2,$ under the constraint $u_{|\\partial \\Omega}=T$)  \n",
    "\n",
    "Here the v is defined as : \n",
    "$$\n",
    "v = \\alpha ^{\\beta} |\\nabla T|^{-\\beta} \\nabla T \n",
    "$$\n",
    "with alpha and beta that can be initialized as $\\alpha = 0.2 \\times \\mbox{ average gradient norm of T}$ and $\\beta = 0.2$, but under you will be able to change them and see the results. "
   ]
  },
  {
   "cell_type": "code",
   "execution_count": null,
   "metadata": {
    "slideshow": {
     "slide_type": "skip"
    }
   },
   "outputs": [],
   "source": [
    "_,source,mask2=chargeData(\"Orange\")"
   ]
  },
  {
   "cell_type": "code",
   "execution_count": null,
   "metadata": {
    "slideshow": {
     "slide_type": "fragment"
    }
   },
   "outputs": [],
   "source": [
    "def v_illuminati(image,mask):\n",
    "    \n",
    "    beta = 0.2\n",
    "    \n",
    "    grad = Gradient(image)\n",
    "    normgrad = np.sqrt(grad[0]**2+grad[1]**2)\n",
    "    alpha = 0.2*np.sum(normgrad*mask)/np.sum(mask)\n",
    "    \n",
    "    coef = alpha**beta*np.linalg.norm(grad[0]+grad[1])**(-beta)\n",
    "    \n",
    "    return coef*grad[0],coef*grad[1]"
   ]
  },
  {
   "cell_type": "markdown",
   "metadata": {
    "slideshow": {
     "slide_type": "slide"
    }
   },
   "source": [
    "As usual, we adapt our function so that it takes the new method into account."
   ]
  },
  {
   "cell_type": "code",
   "execution_count": null,
   "metadata": {
    "slideshow": {
     "slide_type": "fragment"
    }
   },
   "outputs": [],
   "source": [
    "def PoissonEditingColor(targ,sour,ma,step=0.1,Niter=100,editing_method=\"seamless\",optimization_method=\"FB\",alpha=3, mask_texture=None):\n",
    "    if editing_method == \"seamless\":\n",
    "        v = Gradient(sour[:,:,0]),Gradient(sour[:,:,1]),Gradient(sour[:,:,2])\n",
    "    elif editing_method == \"mixing\":\n",
    "        v = v_MG(Gradient(targ[:,:,0]), Gradient(sour[:,:,0]),ma),\\\n",
    "            v_MG(Gradient(targ[:,:,1]), Gradient(sour[:,:,1]),ma),\\\n",
    "            v_MG(Gradient(targ[:,:,2]), Gradient(sour[:,:,2]),ma)\n",
    "    elif editing_method == \"texture\":\n",
    "        targ = sour\n",
    "        if mask_texture is None:\n",
    "            mask_texture = np.ones(targ.shape[:2])\n",
    "        v_hor, v_vert = v_texture(targ, mask_texture)\n",
    "        v = (v_hor[:,:,0], v_vert[:,:,0]),\\\n",
    "            (v_hor[:,:,1], v_vert[:,:,1]),\\\n",
    "            (v_hor[:,:,2], v_vert[:,:,2])\n",
    "    elif editing_method == \"illumination\":\n",
    "        targ = sour\n",
    "        v = (v_illuminati(targ[:,:,0],ma)),\\\n",
    "            (v_illuminati(targ[:,:,1],ma)),\\\n",
    "            (v_illuminati(targ[:,:,2],ma))\n",
    "        \n",
    "    out = np.zeros(targ.shape)\n",
    "    out[:,:,0],f1 = PoissonEditing(targ[:,:,0],sour[:,:,0],ma,v[0],step,Niter,optimization_method,alpha)\n",
    "    out[:,:,1],f2 = PoissonEditing(targ[:,:,1],sour[:,:,1],ma,v[1],step,Niter,optimization_method,alpha)\n",
    "    out[:,:,2],f3 = PoissonEditing(targ[:,:,2],sour[:,:,2],ma,v[2],step,Niter,optimization_method,alpha)\n",
    "    return out, (f1,f2,f3)"
   ]
  },
  {
   "cell_type": "markdown",
   "metadata": {
    "slideshow": {
     "slide_type": "slide"
    }
   },
   "source": [
    "Let's visualize the effect of this new method."
   ]
  },
  {
   "cell_type": "code",
   "execution_count": null,
   "metadata": {
    "slideshow": {
     "slide_type": "skip"
    }
   },
   "outputs": [],
   "source": [
    "class FISTAIllum(param.Parameterized):\n",
    "    Niter = param.Integer(30,bounds=(10,100))\n",
    "    step = param.Number(0.1,bounds=(0.01,1))\n",
    "    alpha = param.Number(3,bounds=(2,15))\n",
    "    def view(self):\n",
    "        target,source,mask2=chargeData(\"Orange\")\n",
    "        imPoiss2, (f1,f2,f3) = PoissonEditingColor(target,source,mask2,self.step,self.Niter,editing_method=\"illumination\",optimization_method=\"FISTA\",alpha=self.alpha)\n",
    "        curve1=hv.Curve(f1,kdims='x',vdims='v').opts(width=500,color='b')\n",
    "        curve2=hv.Curve(f2,kdims='x',vdims='v').opts(width=500,color='g')\n",
    "        curve3=hv.Curve(f3,kdims='x',vdims='v').opts(width=500,color='r')\n",
    "        curves=curve1*curve2*curve3\n",
    "        curves.opts(title=\"3 canaux de couleurs et \" + str(self.Niter) + \" itérations\",height=250)\n",
    "        RGBFISTA=hv.RGB(imPoiss2.astype('uint8')).opts(xaxis=None,yaxis=None,toolbar=None,title=\"FISTA\",height=250,width=250)\n",
    "        RGBNaive=hv.RGB(source.astype('uint8')).opts(xaxis=None,yaxis=None,toolbar=None,title=\"Image originale\",height=250,width=250)\n",
    "        return pn.Column(curves,pn.Row(RGBFISTA,RGBNaive))"
   ]
  },
  {
   "cell_type": "code",
   "execution_count": null,
   "metadata": {
    "slideshow": {
     "slide_type": "fragment"
    }
   },
   "outputs": [],
   "source": [
    "fistaill=FISTAIllum()\n",
    "pn.Row(fistaill.param,fistaill.view)"
   ]
  },
  {
   "cell_type": "markdown",
   "metadata": {
    "slideshow": {
     "slide_type": "slide"
    }
   },
   "source": [
    "## Summary\n",
    "\n",
    "Here are the final functions and a dashboard summarizing all methods."
   ]
  },
  {
   "cell_type": "code",
   "execution_count": null,
   "metadata": {
    "slideshow": {
     "slide_type": "fragment"
    }
   },
   "outputs": [],
   "source": [
    "def PoissonEditing(targ,sour,ma,v,step=0.1,Niter=100,optimization_method=\"FB\",alpha=3):\n",
    "    y = Gradient(sour)\n",
    "    if optimization_method == \"FISTA\":\n",
    "        x0 = Proj(sour,ma,targ)\n",
    "    x1 = Proj(sour,ma,targ)\n",
    "    f = [np.linalg.norm(Gradient(np.array(x1))-np.array(v))**2]\n",
    "    for n in range(Niter):\n",
    "        yn = np.copy(x1)\n",
    "        if optimization_method == \"FISTA\":\n",
    "            yn += (n / (n+alpha)) * (x1 - x0)\n",
    "            x0 = np.copy(x1)\n",
    "        x1 = Proj(yn-step*GradientFonc(x1,v),ma,targ)\n",
    "        f += [np.linalg.norm(Gradient(np.array(x1))-np.array(v))**2]\n",
    "    return np.clip(x1,0,255),f[10:]"
   ]
  },
  {
   "cell_type": "code",
   "execution_count": null,
   "metadata": {
    "slideshow": {
     "slide_type": "slide"
    }
   },
   "outputs": [],
   "source": [
    "def PoissonEditingColor(targ,sour,ma,step=0.1,Niter=100,editing_method=\"seamless\",optimization_method=\"FB\",alpha=3, mask_texture=None):\n",
    "    if editing_method == \"seamless\":\n",
    "        v = Gradient(sour[:,:,0]),Gradient(sour[:,:,1]),Gradient(sour[:,:,2])\n",
    "    elif editing_method == \"mixing\":\n",
    "        v = v_MG(Gradient(targ[:,:,0]), Gradient(sour[:,:,0]),ma),\\\n",
    "            v_MG(Gradient(targ[:,:,1]), Gradient(sour[:,:,1]),ma),\\\n",
    "            v_MG(Gradient(targ[:,:,2]), Gradient(sour[:,:,2]),ma)\n",
    "    elif editing_method == \"texture\":\n",
    "        targ = sour\n",
    "        if mask_texture is None:\n",
    "            mask_texture = np.ones(targ.shape[:2])\n",
    "        v_hor, v_vert = v_texture(targ, mask_texture)\n",
    "        v = (v_hor[:,:,0], v_vert[:,:,0]),\\\n",
    "            (v_hor[:,:,1], v_vert[:,:,1]),\\\n",
    "            (v_hor[:,:,2], v_vert[:,:,2])\n",
    "    elif editing_method == \"illumination\":\n",
    "        targ = sour\n",
    "        v = (v_illuminati(targ[:,:,0],ma)),\\\n",
    "            (v_illuminati(targ[:,:,1],ma)),\\\n",
    "            (v_illuminati(targ[:,:,2],ma))\n",
    "        \n",
    "    out = np.zeros(targ.shape)\n",
    "    out[:,:,0],f1 = PoissonEditing(targ[:,:,0],sour[:,:,0],ma,v[0],step,Niter,optimization_method,alpha)\n",
    "    out[:,:,1],f2 = PoissonEditing(targ[:,:,1],sour[:,:,1],ma,v[1],step,Niter,optimization_method,alpha)\n",
    "    out[:,:,2],f3 = PoissonEditing(targ[:,:,2],sour[:,:,2],ma,v[2],step,Niter,optimization_method,alpha)\n",
    "    return out, (f1,f2,f3)"
   ]
  },
  {
   "cell_type": "code",
   "execution_count": null,
   "metadata": {
    "slideshow": {
     "slide_type": "skip"
    }
   },
   "outputs": [],
   "source": [
    "class PoissonEditingView(param.Parameterized):\n",
    "    Editing_Method = param.ObjectSelector(default='seamless',objects=['seamless','mixing','texture','illumination'])\n",
    "    Optimization_Method = param.ObjectSelector(default='FISTA',objects=['FB','FISTA'])\n",
    "    Niter = param.Integer(100,bounds=(10,3000))\n",
    "    step = param.Number(0.1,bounds=(0.01,1))\n",
    "    alpha = param.Number(3,bounds=(2,15))\n",
    "    def view(self):\n",
    "        if self.Editing_Method == \"seamless\":\n",
    "            target,source,mask2=chargeData(\"Kraken\")\n",
    "        if self.Editing_Method == \"mixing\":\n",
    "            target,source,mask2=chargeData(\"GradF\")\n",
    "        if self.Editing_Method == \"texture\":\n",
    "            target,source,mask2=chargeData(\"Ayoub_texture\")\n",
    "        if self.Editing_Method == \"illumination\":\n",
    "            target,source,mask2=chargeData(\"Orange\")\n",
    "        imPoiss2, (f1,f2,f3) = PoissonEditingColor(target,source,mask2,self.step,self.Niter,editing_method=self.Editing_Method,optimization_method=self.Optimization_Method,alpha=self.alpha,mask_texture=mask2)\n",
    "        curve1=hv.Curve(f1,kdims='x',vdims='v').opts(width=500,color='b')\n",
    "        curve2=hv.Curve(f2,kdims='x',vdims='v').opts(width=500,color='g')\n",
    "        curve3=hv.Curve(f3,kdims='x',vdims='v').opts(width=500,color='r')\n",
    "        curves=curve1*curve2*curve3\n",
    "        curves.opts(title=\"3 canaux de couleurs et \" + str(self.Niter) + \" itérations\",height=250)\n",
    "        RGBFISTA=hv.RGB(imPoiss2.astype('uint8')).opts(xaxis=None,yaxis=None,toolbar=None,title=\"FISTA\",height=250,width=250)\n",
    "        RGBNaive=hv.RGB(source.astype('uint8')).opts(xaxis=None,yaxis=None,toolbar=None,title=\"Image originale\",height=250,width=250)\n",
    "        return pn.Column(curves,pn.Row(RGBFISTA,RGBNaive))"
   ]
  },
  {
   "cell_type": "code",
   "execution_count": null,
   "metadata": {
    "slideshow": {
     "slide_type": "slide"
    }
   },
   "outputs": [],
   "source": [
    "peview=PoissonEditingView()\n",
    "pn.Row(peview.param,peview.view)"
   ]
  }
 ],
 "metadata": {
  "celltoolbar": "Diaporama",
  "kernelspec": {
   "display_name": "Python 3",
   "language": "python",
   "name": "python3"
  },
  "language_info": {
   "codemirror_mode": {
    "name": "ipython",
    "version": 3
   },
   "file_extension": ".py",
   "mimetype": "text/x-python",
   "name": "python",
   "nbconvert_exporter": "python",
   "pygments_lexer": "ipython3",
   "version": "3.7.5"
  },
  "latex_envs": {
   "LaTeX_envs_menu_present": true,
   "autoclose": false,
   "autocomplete": true,
   "bibliofile": "biblio.bib",
   "cite_by": "apalike",
   "current_citInitial": 1,
   "eqLabelWithNumbers": true,
   "eqNumInitial": 1,
   "hotkeys": {
    "equation": "Ctrl-E",
    "itemize": "Ctrl-I"
   },
   "labels_anchors": false,
   "latex_user_defs": false,
   "report_style_numbering": false,
   "user_envs_cfg": false
  }
 },
 "nbformat": 4,
 "nbformat_minor": 2
}
